{
 "cells": [
  {
   "cell_type": "code",
   "execution_count": null,
   "id": "76f32d60-98d0-461a-9fdb-9a6945e30902",
   "metadata": {},
   "outputs": [],
   "source": [
    "# pip install webdriver-manager\n",
    "from selenium import webdriver\n",
    "from selenium.webdriver.chrome.service import Service\n",
    "from webdriver_manager.chrome import ChromeDriverManager\n",
    "from selenium.webdriver.common.by import By\n",
    "\n",
    "s=Service(ChromeDriverManager().install())\n",
    "options = webdriver.ChromeOptions()\n",
    "options.add_argument(\"start-maximized\")\n",
    "# preventing Selenium detection:\n",
    "# https://stackoverflow.com/questions/53039551/selenium-webdriver-modifying-navigator-webdriver-flag-to-prevent-selenium-detec/53040904#53040904\n",
    "options.add_argument('--disable-blink-features=AutomationControlled')\n",
    "options.add_experimental_option(\"excludeSwitches\", [\"enable-automation\"]) \n",
    "options.add_experimental_option('useAutomationExtension', False) \n",
    "driver = webdriver.Chrome(service=s, chrome_options=options)\n"
   ]
  },
  {
   "cell_type": "markdown",
   "id": "359ecd33-63b6-475d-ac49-5cccedafd2d9",
   "metadata": {},
   "source": [
    "# All projects"
   ]
  },
  {
   "cell_type": "code",
   "execution_count": null,
   "id": "1e3825ee-2084-4455-bf81-83ea6b525514",
   "metadata": {},
   "outputs": [],
   "source": [
    "# import time\n",
    "\n",
    "# def extract_projects_list():\n",
    "#     driver.get(\"https://www.dira.moch.gov.il/ProjectsList\")\n",
    "#     time.sleep(2)\n",
    "#     # get all lines\n",
    "#     a = driver.find_elements(By.TAG_NAME, 'tr')\n",
    "#     print(\"found\",len(a),\"projects\")\n",
    "#     projects = []\n",
    "#     for p in a[1:]:\n",
    "#         b = p.find_elements(By.TAG_NAME, 'td')\n",
    "#         project = {}\n",
    "#         project['status'] = b[0].text\n",
    "#         project['id'] = b[2].text\n",
    "#         project['population'] = b[3].text\n",
    "#         project['registration_enddate'] = b[4].text\n",
    "#         project['city'] = b[5].text\n",
    "#         project['compnay'] = b[6].text\n",
    "#         project['num_of_apartments'] = b[7].text\n",
    "#         project['price_per_meter'] = b[8].text\n",
    "#         projects.append(project)\n",
    "#     return projects\n",
    "    "
   ]
  },
  {
   "cell_type": "code",
   "execution_count": null,
   "id": "b0ef4944-d349-42ca-8e93-9345a543ef28",
   "metadata": {},
   "outputs": [],
   "source": [
    "#projects1 = extract_projects_list()"
   ]
  },
  {
   "cell_type": "markdown",
   "id": "15e076cd-5404-47cc-a96e-75f1745a2458",
   "metadata": {},
   "source": [
    "# Per project"
   ]
  },
  {
   "cell_type": "code",
   "execution_count": null,
   "id": "e800a289-aebe-41c2-8b4b-af4906f180ee",
   "metadata": {},
   "outputs": [],
   "source": [
    "#a[1].find_element(By.CLASS_NAME, 'btn').click()"
   ]
  },
  {
   "cell_type": "code",
   "execution_count": null,
   "id": "998c9d6b-b577-499b-8779-8c3469df9d4c",
   "metadata": {},
   "outputs": [],
   "source": [
    "# project_details = {\n",
    "#     \"LotteryNumber\": driver.find_element(By.ID, 'LotteryNumber').text,\n",
    "#     \"HousingUnits\": driver.find_element(By.ID, 'HousingUnits').text,\n",
    "#     \"TargetHousingUnits\": driver.find_element(By.ID, 'TargetHousingUnits').text,\n",
    "#     \"LotteryApparmentsNum\": driver.find_element(By.ID, 'LotteryApparmentsNum').text,\n",
    "#     \"LocalHousing\": driver.find_element(By.ID, 'LocalHousing').text,\n",
    "#     \"LotteryStageSummery\": driver.find_element(By.XPATH, \"//*/tr[@ng-repeat='stage in project.LotteryStageSummery.Stages']\").find_elements(By.TAG_NAME, 'td')[1].text\n",
    "# }"
   ]
  },
  {
   "cell_type": "markdown",
   "id": "fef7e509-5395-46e9-b82d-b36ea4da64b2",
   "metadata": {},
   "source": [
    "# Scrape All"
   ]
  },
  {
   "cell_type": "code",
   "execution_count": null,
   "id": "52e95bdc-6fd3-48ee-9318-98e6b7d2ae2c",
   "metadata": {},
   "outputs": [],
   "source": [
    "import json\n",
    "  \n",
    "def load_from_file():\n",
    "    # Opening JSON file\n",
    "    with open('projects.json', 'r') as openfile:\n",
    "\n",
    "        # Reading from json file\n",
    "        json_object = json.load(openfile)\n",
    "\n",
    "    return json_object"
   ]
  },
  {
   "cell_type": "code",
   "execution_count": null,
   "id": "2eb9c3d1-5538-4d31-8789-ce2a0ce20196",
   "metadata": {},
   "outputs": [],
   "source": [
    "import json\n",
    "\n",
    "def save_to_file(projects):\n",
    "    json_object = json.dumps(projects, indent = 4)\n",
    "    with open(\"projects.json\", \"w\") as outfile:\n",
    "        outfile.write(json_object)"
   ]
  },
  {
   "cell_type": "code",
   "execution_count": null,
   "id": "7a6f70ca-628d-4b2a-8493-14742f232ad8",
   "metadata": {},
   "outputs": [],
   "source": [
    "projects = load_from_file()"
   ]
  },
  {
   "cell_type": "code",
   "execution_count": null,
   "id": "4e6b5aff-a6d3-4117-8228-372e85e11e6c",
   "metadata": {},
   "outputs": [],
   "source": [
    "#projects = {}"
   ]
  },
  {
   "cell_type": "code",
   "execution_count": null,
   "id": "389ce974-6a79-4579-9746-663722be60ae",
   "metadata": {},
   "outputs": [],
   "source": [
    "len(projects)"
   ]
  },
  {
   "cell_type": "code",
   "execution_count": null,
   "id": "725edd9e-901f-4371-afaf-6f0daec2af0f",
   "metadata": {
    "tags": []
   },
   "outputs": [],
   "source": [
    "import time\n",
    "\n",
    "flag = True\n",
    "while flag:    \n",
    "    driver.get(\"https://www.dira.moch.gov.il/ProjectsList\")\n",
    "    time.sleep(3)\n",
    "    more_projects = []\n",
    "    while len(more_projects)==0:\n",
    "        # get all lines\n",
    "        a = driver.find_elements(By.TAG_NAME, 'tr')\n",
    "        print(\"found\",len(a)-1,\"projects\")\n",
    "        for p in a[1:]:\n",
    "            pp = p.find_elements(By.TAG_NAME, 'td')\n",
    "            if pp[2].text not in projects:\n",
    "                more_projects.append(p)\n",
    "        \n",
    "        if len(more_projects)==0:\n",
    "            print(\"moving to next page\")\n",
    "            driver.find_element(By.XPATH, '//*/a[@ng-switch-when=\"next\"]').click()\n",
    "            time.sleep(2)\n",
    "            \n",
    "    if len(more_projects)>0:\n",
    "        p = more_projects[0]\n",
    "        p.find_element(By.CLASS_NAME, 'btn').click()\n",
    "        time.sleep(2)\n",
    "        project_details = {\n",
    "            \"LotteryNumber\": driver.find_element(By.ID, 'LotteryNumber').text,\n",
    "            \"HousingUnits\": driver.find_element(By.ID, 'HousingUnits').text,\n",
    "            \"TargetHousingUnits\": driver.find_element(By.ID, 'TargetHousingUnits').text,\n",
    "            \"LotteryApparmentsNum\": driver.find_element(By.ID, 'LotteryApparmentsNum').text,\n",
    "            \"LocalHousing\": driver.find_element(By.ID, 'LocalHousing').text,\n",
    "            \"LotteryStageSummery\": driver.find_element(By.XPATH, \"//*/tr[@ng-repeat='stage in project.LotteryStageSummery.Stages']\").find_elements(By.TAG_NAME, 'td')[1].text,\n",
    "            \"CityDescription\": driver.find_element(By.ID, 'CityDescription').text\n",
    "        }\n",
    "        print(\"adding project\", project_details['LotteryNumber'])\n",
    "        projects[project_details['LotteryNumber']] = project_details\n",
    "        flag = True\n",
    "    else:       \n",
    "        flag = False\n",
    "    save_to_file(projects)\n",
    "    "
   ]
  },
  {
   "cell_type": "code",
   "execution_count": null,
   "id": "08891774-0023-4e0a-b34c-3d0ca7ce3c08",
   "metadata": {},
   "outputs": [],
   "source": [
    "len(projects)"
   ]
  },
  {
   "cell_type": "code",
   "execution_count": null,
   "id": "51d44bcb-29af-4785-ac53-eb48f00bf5f9",
   "metadata": {
    "tags": []
   },
   "outputs": [],
   "source": [
    "projects"
   ]
  },
  {
   "cell_type": "code",
   "execution_count": null,
   "id": "89e91df3-ff99-4774-9d47-6c60f604b3b8",
   "metadata": {},
   "outputs": [],
   "source": []
  },
  {
   "cell_type": "code",
   "execution_count": null,
   "id": "400d2c99-b7e6-470b-84f5-56be863ac901",
   "metadata": {},
   "outputs": [],
   "source": []
  },
  {
   "cell_type": "code",
   "execution_count": null,
   "id": "73af5fdb-891f-45f0-92e0-98ba0ace6b30",
   "metadata": {},
   "outputs": [],
   "source": []
  },
  {
   "cell_type": "code",
   "execution_count": null,
   "id": "2beb9694-3954-4f2c-9763-23dfe4825e0d",
   "metadata": {},
   "outputs": [],
   "source": [
    "driver.get(\"https://www.dira.moch.gov.il/ProjectsList\")"
   ]
  },
  {
   "cell_type": "code",
   "execution_count": null,
   "id": "5627b9af-e9d5-4971-bee8-09b373b11aa0",
   "metadata": {},
   "outputs": [],
   "source": [
    "driver.find_element(By.ID, 'CityDescription').text"
   ]
  },
  {
   "cell_type": "code",
   "execution_count": null,
   "id": "f42cbee5-e982-4484-9b43-0c0f9ede9865",
   "metadata": {},
   "outputs": [],
   "source": []
  }
 ],
 "metadata": {
  "kernelspec": {
   "display_name": "Python 3",
   "language": "python",
   "name": "python3"
  },
  "language_info": {
   "codemirror_mode": {
    "name": "ipython",
    "version": 3
   },
   "file_extension": ".py",
   "mimetype": "text/x-python",
   "name": "python",
   "nbconvert_exporter": "python",
   "pygments_lexer": "ipython3",
   "version": "3.9.5"
  }
 },
 "nbformat": 4,
 "nbformat_minor": 5
}
